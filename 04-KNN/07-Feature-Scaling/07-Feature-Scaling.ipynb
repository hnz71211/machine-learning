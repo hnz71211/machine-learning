{
 "cells": [
  {
   "cell_type": "markdown",
   "metadata": {},
   "source": [
    "## 07-Feature-Scaling"
   ]
  },
  {
   "cell_type": "code",
   "execution_count": 1,
   "metadata": {},
   "outputs": [],
   "source": [
    "import numpy as np\n",
    "import matplotlib.pyplot as plt"
   ]
  },
  {
   "cell_type": "markdown",
   "metadata": {},
   "source": [
    "### 最值归一化 Normalization"
   ]
  },
  {
   "cell_type": "code",
   "execution_count": 2,
   "metadata": {},
   "outputs": [
    {
     "data": {
      "text/plain": [
       "array([94, 42, 79, 50,  2, 62, 62, 53, 37, 67, 67,  3, 49, 85,  2, 77, 35,\n",
       "        0, 81,  9, 78, 90, 20, 48, 25, 94,  4, 91, 11, 91, 61, 12, 41, 58,\n",
       "        8, 51, 23, 37, 81, 85, 72, 25, 45, 20,  9, 33, 80, 70, 87, 70, 93,\n",
       "       72, 22, 59, 60, 27,  1,  9, 81,  4,  6, 64, 28, 83, 63,  7,  9, 62,\n",
       "       79, 51, 98, 44, 91, 74,  2, 24, 55, 12, 62, 30,  9, 10, 53, 19, 48,\n",
       "       76, 42, 14, 50, 79, 46, 80, 10, 21, 84, 98, 95, 15, 77, 12])"
      ]
     },
     "execution_count": 2,
     "metadata": {},
     "output_type": "execute_result"
    }
   ],
   "source": [
    "x = np.random.randint(0, 100, 100)\n",
    "x"
   ]
  },
  {
   "cell_type": "code",
   "execution_count": 3,
   "metadata": {},
   "outputs": [
    {
     "data": {
      "text/plain": [
       "array([0.95918367, 0.42857143, 0.80612245, 0.51020408, 0.02040816,\n",
       "       0.63265306, 0.63265306, 0.54081633, 0.37755102, 0.68367347,\n",
       "       0.68367347, 0.03061224, 0.5       , 0.86734694, 0.02040816,\n",
       "       0.78571429, 0.35714286, 0.        , 0.82653061, 0.09183673,\n",
       "       0.79591837, 0.91836735, 0.20408163, 0.48979592, 0.25510204,\n",
       "       0.95918367, 0.04081633, 0.92857143, 0.1122449 , 0.92857143,\n",
       "       0.62244898, 0.12244898, 0.41836735, 0.59183673, 0.08163265,\n",
       "       0.52040816, 0.23469388, 0.37755102, 0.82653061, 0.86734694,\n",
       "       0.73469388, 0.25510204, 0.45918367, 0.20408163, 0.09183673,\n",
       "       0.33673469, 0.81632653, 0.71428571, 0.8877551 , 0.71428571,\n",
       "       0.94897959, 0.73469388, 0.2244898 , 0.60204082, 0.6122449 ,\n",
       "       0.2755102 , 0.01020408, 0.09183673, 0.82653061, 0.04081633,\n",
       "       0.06122449, 0.65306122, 0.28571429, 0.84693878, 0.64285714,\n",
       "       0.07142857, 0.09183673, 0.63265306, 0.80612245, 0.52040816,\n",
       "       1.        , 0.44897959, 0.92857143, 0.75510204, 0.02040816,\n",
       "       0.24489796, 0.56122449, 0.12244898, 0.63265306, 0.30612245,\n",
       "       0.09183673, 0.10204082, 0.54081633, 0.19387755, 0.48979592,\n",
       "       0.7755102 , 0.42857143, 0.14285714, 0.51020408, 0.80612245,\n",
       "       0.46938776, 0.81632653, 0.10204082, 0.21428571, 0.85714286,\n",
       "       1.        , 0.96938776, 0.15306122, 0.78571429, 0.12244898])"
      ]
     },
     "execution_count": 3,
     "metadata": {},
     "output_type": "execute_result"
    }
   ],
   "source": [
    "# （向量 - 数值） / 数值\n",
    "(x - np.min(x)) / (np.max(x) - np.min(x))"
   ]
  },
  {
   "cell_type": "code",
   "execution_count": 4,
   "metadata": {},
   "outputs": [
    {
     "data": {
      "text/plain": [
       "array([[66., 41.],\n",
       "       [ 3., 86.],\n",
       "       [44., 71.],\n",
       "       [60., 50.],\n",
       "       [ 5., 12.],\n",
       "       [66., 51.],\n",
       "       [69., 23.],\n",
       "       [89., 58.],\n",
       "       [40., 38.],\n",
       "       [ 5., 48.],\n",
       "       [41., 33.],\n",
       "       [60., 42.],\n",
       "       [18.,  1.],\n",
       "       [ 3., 66.],\n",
       "       [12., 76.],\n",
       "       [31.,  8.],\n",
       "       [67., 13.],\n",
       "       [89.,  5.],\n",
       "       [60., 52.],\n",
       "       [85., 88.],\n",
       "       [46., 59.],\n",
       "       [82., 63.],\n",
       "       [67., 32.],\n",
       "       [69., 99.],\n",
       "       [64., 75.],\n",
       "       [98., 46.],\n",
       "       [13., 55.],\n",
       "       [23., 22.],\n",
       "       [68., 62.],\n",
       "       [48.,  4.],\n",
       "       [91., 93.],\n",
       "       [20., 30.],\n",
       "       [ 5., 77.],\n",
       "       [47., 51.],\n",
       "       [29., 99.],\n",
       "       [ 5., 36.],\n",
       "       [90., 25.],\n",
       "       [11., 83.],\n",
       "       [92., 99.],\n",
       "       [71., 68.],\n",
       "       [31.,  6.],\n",
       "       [63., 27.],\n",
       "       [68., 28.],\n",
       "       [46., 42.],\n",
       "       [93., 96.],\n",
       "       [95., 56.],\n",
       "       [74.,  0.],\n",
       "       [71., 18.],\n",
       "       [23., 14.],\n",
       "       [26., 46.]])"
      ]
     },
     "execution_count": 4,
     "metadata": {},
     "output_type": "execute_result"
    }
   ],
   "source": [
    "X = np.random.randint(0, 100, (50, 2))\n",
    "X = np.array(X, dtype=float)\n",
    "X"
   ]
  },
  {
   "cell_type": "code",
   "execution_count": 5,
   "metadata": {},
   "outputs": [
    {
     "data": {
      "text/plain": [
       "array([[0.66315789, 0.41414141],\n",
       "       [0.        , 0.86868687],\n",
       "       [0.43157895, 0.71717172],\n",
       "       [0.6       , 0.50505051],\n",
       "       [0.02105263, 0.12121212],\n",
       "       [0.66315789, 0.51515152],\n",
       "       [0.69473684, 0.23232323],\n",
       "       [0.90526316, 0.58585859],\n",
       "       [0.38947368, 0.38383838],\n",
       "       [0.02105263, 0.48484848],\n",
       "       [0.4       , 0.33333333],\n",
       "       [0.6       , 0.42424242],\n",
       "       [0.15789474, 0.01010101],\n",
       "       [0.        , 0.66666667],\n",
       "       [0.09473684, 0.76767677],\n",
       "       [0.29473684, 0.08080808],\n",
       "       [0.67368421, 0.13131313],\n",
       "       [0.90526316, 0.05050505],\n",
       "       [0.6       , 0.52525253],\n",
       "       [0.86315789, 0.88888889],\n",
       "       [0.45263158, 0.5959596 ],\n",
       "       [0.83157895, 0.63636364],\n",
       "       [0.67368421, 0.32323232],\n",
       "       [0.69473684, 1.        ],\n",
       "       [0.64210526, 0.75757576],\n",
       "       [1.        , 0.46464646],\n",
       "       [0.10526316, 0.55555556],\n",
       "       [0.21052632, 0.22222222],\n",
       "       [0.68421053, 0.62626263],\n",
       "       [0.47368421, 0.04040404],\n",
       "       [0.92631579, 0.93939394],\n",
       "       [0.17894737, 0.3030303 ],\n",
       "       [0.02105263, 0.77777778],\n",
       "       [0.46315789, 0.51515152],\n",
       "       [0.27368421, 1.        ],\n",
       "       [0.02105263, 0.36363636],\n",
       "       [0.91578947, 0.25252525],\n",
       "       [0.08421053, 0.83838384],\n",
       "       [0.93684211, 1.        ],\n",
       "       [0.71578947, 0.68686869],\n",
       "       [0.29473684, 0.06060606],\n",
       "       [0.63157895, 0.27272727],\n",
       "       [0.68421053, 0.28282828],\n",
       "       [0.45263158, 0.42424242],\n",
       "       [0.94736842, 0.96969697],\n",
       "       [0.96842105, 0.56565657],\n",
       "       [0.74736842, 0.        ],\n",
       "       [0.71578947, 0.18181818],\n",
       "       [0.21052632, 0.14141414],\n",
       "       [0.24210526, 0.46464646]])"
      ]
     },
     "execution_count": 5,
     "metadata": {},
     "output_type": "execute_result"
    }
   ],
   "source": [
    "# 归一化每一列\n",
    "X[:,0] = (X[:,0] - np.min(X[:,0])) / (np.max(X[:,0]) - np.min(X[:,0]))\n",
    "X[:,1] = (X[:,1] - np.min(X[:,1])) / (np.max(X[:,1]) - np.min(X[:,1]))\n",
    "X"
   ]
  },
  {
   "cell_type": "code",
   "execution_count": 6,
   "metadata": {},
   "outputs": [
    {
     "data": {
      "image/png": "[encoded data removed]",
      "text/plain": [
       "<Figure size 432x288 with 1 Axes>"
      ]
     },
     "metadata": {
      "needs_background": "light"
     },
     "output_type": "display_data"
    }
   ],
   "source": [
    "plt.scatter(X[:,0], X[:,1])\n",
    "plt.show()"
   ]
  },
  {
   "cell_type": "code",
   "execution_count": 10,
   "metadata": {},
   "outputs": [
    {
     "name": "stdout",
     "output_type": "stream",
     "text": [
      "0.503578947368421\n",
      "0.47939393939393943\n"
     ]
    }
   ],
   "source": [
    "# 平均值\n",
    "print(np.mean(X[:,0]))\n",
    "print(np.mean(X[:,1]))"
   ]
  },
  {
   "cell_type": "code",
   "execution_count": 11,
   "metadata": {},
   "outputs": [
    {
     "name": "stdout",
     "output_type": "stream",
     "text": [
      "0.3097554034594056\n",
      "0.28880559652546584\n"
     ]
    }
   ],
   "source": [
    "# 方差\n",
    "print(np.std(X[:,0]))\n",
    "print(np.std(X[:,1]))"
   ]
  },
  {
   "cell_type": "markdown",
   "metadata": {},
   "source": [
    "### 均值方差归一化 Standardization"
   ]
  },
  {
   "cell_type": "code",
   "execution_count": 12,
   "metadata": {},
   "outputs": [
    {
     "data": {
      "text/plain": [
       "array([[87., 28.],\n",
       "       [59., 18.],\n",
       "       [49., 85.],\n",
       "       [ 3., 98.],\n",
       "       [29., 92.],\n",
       "       [56., 35.],\n",
       "       [37., 42.],\n",
       "       [28., 85.],\n",
       "       [33.,  2.],\n",
       "       [23., 99.],\n",
       "       [62., 77.],\n",
       "       [93., 87.],\n",
       "       [77., 20.],\n",
       "       [76.,  9.],\n",
       "       [86., 77.],\n",
       "       [15., 18.],\n",
       "       [29.,  6.],\n",
       "       [30.,  5.],\n",
       "       [13., 15.],\n",
       "       [64., 81.],\n",
       "       [94., 29.],\n",
       "       [61.,  7.],\n",
       "       [41., 59.],\n",
       "       [54., 68.],\n",
       "       [27., 42.],\n",
       "       [70., 67.],\n",
       "       [47., 98.],\n",
       "       [64.,  7.],\n",
       "       [71., 12.],\n",
       "       [43., 93.],\n",
       "       [38., 11.],\n",
       "       [69., 26.],\n",
       "       [18., 51.],\n",
       "       [54., 92.],\n",
       "       [38., 39.],\n",
       "       [82., 28.],\n",
       "       [82., 39.],\n",
       "       [54., 33.],\n",
       "       [66., 96.],\n",
       "       [77., 62.],\n",
       "       [13., 52.],\n",
       "       [79., 40.],\n",
       "       [62., 77.],\n",
       "       [64., 62.],\n",
       "       [75., 59.],\n",
       "       [ 7., 15.],\n",
       "       [79., 89.],\n",
       "       [ 7., 69.],\n",
       "       [89., 42.],\n",
       "       [15., 99.]])"
      ]
     },
     "execution_count": 12,
     "metadata": {},
     "output_type": "execute_result"
    }
   ],
   "source": [
    "X2 = np.random.randint(0, 100, (50, 2))\n",
    "X2 = np.array(X2, dtype=float)\n",
    "X2"
   ]
  },
  {
   "cell_type": "code",
   "execution_count": 13,
   "metadata": {},
   "outputs": [],
   "source": [
    "# 对每一列进行均值方差归一化\n",
    "X2[:,0] = (X2[:,0] - np.mean(X2[:,0])) / np.std(X2[:,0])\n",
    "X2[:,1] = (X2[:,1] - np.mean(X2[:,1])) / np.std(X2[:,1])"
   ]
  },
  {
   "cell_type": "code",
   "execution_count": 14,
   "metadata": {},
   "outputs": [
    {
     "data": {
      "image/png": "[encoded data removed]",
      "text/plain": [
       "<Figure size 432x288 with 1 Axes>"
      ]
     },
     "metadata": {
      "needs_background": "light"
     },
     "output_type": "display_data"
    }
   ],
   "source": [
    "plt.scatter(X2[:,0], X2[:,1])\n",
    "plt.show()"
   ]
  },
  {
   "cell_type": "code",
   "execution_count": 15,
   "metadata": {},
   "outputs": [
    {
     "name": "stdout",
     "output_type": "stream",
     "text": [
      "-4.884981308350689e-17\n",
      "-8.43769498715119e-17\n"
     ]
    }
   ],
   "source": [
    "# 平均值\n",
    "print(np.mean(X2[:,0]))\n",
    "print(np.mean(X2[:,1]))"
   ]
  },
  {
   "cell_type": "code",
   "execution_count": 16,
   "metadata": {},
   "outputs": [
    {
     "name": "stdout",
     "output_type": "stream",
     "text": [
      "1.0\n",
      "0.9999999999999999\n"
     ]
    }
   ],
   "source": [
    "# 方差\n",
    "print(np.std(X2[:,0]))\n",
    "print(np.std(X2[:,1]))"
   ]
  },
  {
   "cell_type": "code",
   "execution_count": null,
   "metadata": {},
   "outputs": [],
   "source": []
  }
 ],
 "metadata": {
  "kernelspec": {
   "display_name": "Python 3",
   "language": "python",
   "name": "python3"
  },
  "language_info": {
   "codemirror_mode": {
    "name": "ipython",
    "version": 3
   },
   "file_extension": ".py",
   "mimetype": "text/x-python",
   "name": "python",
   "nbconvert_exporter": "python",
   "pygments_lexer": "ipython3",
   "version": "3.7.4"
  }
 },
 "nbformat": 4,
 "nbformat_minor": 2
}
